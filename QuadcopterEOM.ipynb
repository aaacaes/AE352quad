{
 "cells": [
  {
   "cell_type": "code",
   "execution_count": 1,
   "metadata": {},
   "outputs": [],
   "source": [
    "import sympy as sym\n",
    "import numpy as np\n",
    "sym.init_printing()"
   ]
  },
  {
   "cell_type": "code",
   "execution_count": 2,
   "metadata": {},
   "outputs": [],
   "source": [
    "# Mass and moment of inertia of the bus\n",
    "mass = 0.86    # The mass of the quadrotor in kg\n",
    "Ixx, Iyy, Izz, l, h = sym.symbols('Ixx, Iyy, Izz, l, h')\n",
    "g = 9.81"
   ]
  },
  {
   "cell_type": "code",
   "execution_count": 3,
   "metadata": {},
   "outputs": [],
   "source": [
    "# Define position\n",
    "px_inW, py_inW, pz_inW = sym.symbols('px, py, pz')\n",
    "p_inW = sym.Matrix([[px_inW],\n",
    "                    [py_inW],\n",
    "                    [pz_inW]])\n",
    "\n",
    "# Define velocity\n",
    "vx_inB, vy_inB, vz_inB = sym.symbols('vx, vy, vz')\n",
    "v_inB = sym.Matrix([[vx_inB],\n",
    "                    [vy_inB],\n",
    "                    [vz_inB]])\n",
    "\n",
    "# Define roll (phi), pitch (theta), and yaw (psi) angles\n",
    "phi, theta, psi = sym.symbols('phi, theta, psi')\n",
    "\n",
    "# Define angular velocities\n",
    "wx_inB, wy_inB, wz_inB = sym.symbols('omega_x, omega_y, omega_z')\n",
    "w_inB = sym.Matrix([[wx_inB],\n",
    "                    [wy_inB],\n",
    "                    [wz_inB]])\n",
    "\n",
    "# Define roll, pitch, and yaw rotation matrices that describe the bus's orientation in the \n",
    "# world frame\n",
    "Rx = sym.Matrix([[1,            0,             0],\n",
    "                 [0, sym.cos(phi), -sym.sin(phi)],\n",
    "                 [0, sym.sin(phi),  sym.cos(phi)]])\n",
    "Ry = sym.Matrix([[ sym.cos(theta), 0, sym.sin(theta)],\n",
    "                 [              0, 1,              0],\n",
    "                 [-sym.sin(theta), 0, sym.cos(theta)]])\n",
    "Rz = sym.Matrix([[sym.cos(psi), -sym.sin(psi), 0],\n",
    "                 [sym.sin(psi),  sym.cos(psi), 0],\n",
    "                 [           0,             0, 1]])\n",
    "R_ofB_inW = Rz @ Ry @ Rx\n",
    "R_ofW_inB = R_ofB_inW.T"
   ]
  },
  {
   "cell_type": "code",
   "execution_count": 4,
   "metadata": {},
   "outputs": [],
   "source": [
    "# Define inputs\n",
    "taux_inB, tauy_inB, tauz_inB, fz_inB = sym.symbols('tau_x, tau_y, tau_z, f_z')\n",
    "\n",
    "# Get the net torque vector\n",
    "tau_inB = sym.Matrix([[taux_inB],\n",
    "                      [tauy_inB],\n",
    "                      [tauz_inB]])\n",
    "tau_inB = sym.simplify(tau_inB)\n",
    "\n",
    "# Get the gravity force and convert to body coordiantes\n",
    "grav_inW = sym.Matrix([[0.],\n",
    "                       [0.],\n",
    "                       [-mass * g]])\n",
    "grav_inB = R_ofW_inB @ grav_inW\n",
    "\n",
    "# Get the net force vector\n",
    "f_inB = grav_inB + sym.Matrix([[0.],\n",
    "                               [0.],\n",
    "                               [fz_inB]])\n",
    "f_inB = sym.simplify(f_inB)"
   ]
  },
  {
   "cell_type": "code",
   "execution_count": 5,
   "metadata": {},
   "outputs": [],
   "source": [
    "# Assemble the moment of inertia matrix\n",
    "I_inB = sym.Matrix([[Ixx, 0.,  0.],\n",
    "                    [0.,  Iyy, 0.],\n",
    "                    [0.,  0.,  Izz]])"
   ]
  },
  {
   "cell_type": "code",
   "execution_count": 6,
   "metadata": {},
   "outputs": [
    {
     "name": "stdout",
     "output_type": "stream",
     "text": [
      "px, py, pz rate as a function of orientation and body-fixed velocities:\n"
     ]
    },
    {
     "data": {
      "text/latex": [
       "$\\displaystyle \\left[\\begin{matrix}vx \\cos{\\left(\\psi \\right)} \\cos{\\left(\\theta \\right)} + vy \\left(\\sin{\\left(\\phi \\right)} \\sin{\\left(\\theta \\right)} \\cos{\\left(\\psi \\right)} - \\sin{\\left(\\psi \\right)} \\cos{\\left(\\phi \\right)}\\right) + vz \\left(\\sin{\\left(\\phi \\right)} \\sin{\\left(\\psi \\right)} + \\sin{\\left(\\theta \\right)} \\cos{\\left(\\phi \\right)} \\cos{\\left(\\psi \\right)}\\right)\\\\vx \\sin{\\left(\\psi \\right)} \\cos{\\left(\\theta \\right)} + vy \\left(\\sin{\\left(\\phi \\right)} \\sin{\\left(\\psi \\right)} \\sin{\\left(\\theta \\right)} + \\cos{\\left(\\phi \\right)} \\cos{\\left(\\psi \\right)}\\right) - vz \\left(\\sin{\\left(\\phi \\right)} \\cos{\\left(\\psi \\right)} - \\sin{\\left(\\psi \\right)} \\sin{\\left(\\theta \\right)} \\cos{\\left(\\phi \\right)}\\right)\\\\- vx \\sin{\\left(\\theta \\right)} + vy \\sin{\\left(\\phi \\right)} \\cos{\\left(\\theta \\right)} + vz \\cos{\\left(\\phi \\right)} \\cos{\\left(\\theta \\right)}\\end{matrix}\\right]$"
      ],
      "text/plain": [
       "⎡vx⋅cos(ψ)⋅cos(θ) + vy⋅(sin(φ)⋅sin(θ)⋅cos(ψ) - sin(ψ)⋅cos(φ)) + vz⋅(sin(φ)⋅sin\n",
       "⎢                                                                             \n",
       "⎢vx⋅sin(ψ)⋅cos(θ) + vy⋅(sin(φ)⋅sin(ψ)⋅sin(θ) + cos(φ)⋅cos(ψ)) - vz⋅(sin(φ)⋅cos\n",
       "⎢                                                                             \n",
       "⎣                            -vx⋅sin(θ) + vy⋅sin(φ)⋅cos(θ) + vz⋅cos(φ)⋅cos(θ) \n",
       "\n",
       "(ψ) + sin(θ)⋅cos(φ)⋅cos(ψ))⎤\n",
       "                           ⎥\n",
       "(ψ) - sin(ψ)⋅sin(θ)⋅cos(φ))⎥\n",
       "                           ⎥\n",
       "                           ⎦"
      ]
     },
     "execution_count": 6,
     "metadata": {},
     "output_type": "execute_result"
    }
   ],
   "source": [
    "v_inW = R_ofB_inW @ v_inB\n",
    "xyz_dot = sym.simplify(v_inW)\n",
    "print(\"px, py, pz rate as a function of orientation and body-fixed velocities:\")\n",
    "sym.N(xyz_dot,3)"
   ]
  },
  {
   "cell_type": "code",
   "execution_count": 7,
   "metadata": {},
   "outputs": [
    {
     "name": "stdout",
     "output_type": "stream",
     "text": [
      "Body-fixed velocity rates as a function of orientation, body-fixed velocities, and applied forces:\n"
     ]
    },
    {
     "data": {
      "text/latex": [
       "$\\displaystyle \\left[\\begin{matrix}- 1.0 \\omega_{y} vz + 1.0 \\omega_{z} vy + 9.81 \\sin{\\left(\\theta \\right)}\\\\1.0 \\omega_{x} vz - 1.0 \\omega_{z} vx - 9.81 \\sin{\\left(\\phi \\right)} \\cos{\\left(\\theta \\right)}\\\\1.16 f_{z} - 1.0 \\omega_{x} vy + 1.0 \\omega_{y} vx - 9.81 \\cos{\\left(\\phi \\right)} \\cos{\\left(\\theta \\right)}\\end{matrix}\\right]$"
      ],
      "text/plain": [
       "⎡        -ω_y⋅vz + 1.0⋅ω_z⋅vy + 9.81⋅sin(θ)        ⎤\n",
       "⎢                                                  ⎥\n",
       "⎢     1.0⋅ωₓ⋅vz - ω_z⋅vx - 9.81⋅sin(φ)⋅cos(θ)      ⎥\n",
       "⎢                                                  ⎥\n",
       "⎣1.16⋅f_z - ωₓ⋅vy + 1.0⋅ω_y⋅vx - 9.81⋅cos(φ)⋅cos(θ)⎦"
      ]
     },
     "execution_count": 7,
     "metadata": {},
     "output_type": "execute_result"
    }
   ],
   "source": [
    "v_inB_dot = (1 / mass) * (f_inB - w_inB.cross(mass * v_inB))\n",
    "v_inB_dot = sym.simplify(v_inB_dot)\n",
    "print(\"Body-fixed velocity rates as a function of orientation, body-fixed velocities, and applied forces:\")\n",
    "sym.N(v_inB_dot,3)"
   ]
  },
  {
   "cell_type": "code",
   "execution_count": 8,
   "metadata": {},
   "outputs": [
    {
     "name": "stdout",
     "output_type": "stream",
     "text": [
      "Roll, pitch, and yaw rate as a function of orientation and body-fixed angular rates:\n"
     ]
    },
    {
     "data": {
      "text/latex": [
       "$\\displaystyle \\left[\\begin{matrix}\\omega_{x} + \\omega_{y} \\sin{\\left(\\phi \\right)} \\tan{\\left(\\theta \\right)} + \\omega_{z} \\cos{\\left(\\phi \\right)} \\tan{\\left(\\theta \\right)}\\\\\\omega_{y} \\cos{\\left(\\phi \\right)} - \\omega_{z} \\sin{\\left(\\phi \\right)}\\\\\\frac{\\omega_{y} \\sin{\\left(\\phi \\right)} + \\omega_{z} \\cos{\\left(\\phi \\right)}}{\\cos{\\left(\\theta \\right)}}\\end{matrix}\\right]$"
      ],
      "text/plain": [
       "⎡ωₓ + ω_y⋅sin(φ)⋅tan(θ) + ω_z⋅cos(φ)⋅tan(θ)⎤\n",
       "⎢                                          ⎥\n",
       "⎢         ω_y⋅cos(φ) - ω_z⋅sin(φ)          ⎥\n",
       "⎢                                          ⎥\n",
       "⎢         ω_y⋅sin(φ) + ω_z⋅cos(φ)          ⎥\n",
       "⎢         ───────────────────────          ⎥\n",
       "⎣                  cos(θ)                  ⎦"
      ]
     },
     "execution_count": 8,
     "metadata": {},
     "output_type": "execute_result"
    }
   ],
   "source": [
    "# Define the transformation that takes roll, pitch, and yaw rates to body-fixed angular rates\n",
    "ex = sym.Matrix([[1], [0], [0]])\n",
    "ey = sym.Matrix([[0], [1], [0]])\n",
    "ez = sym.Matrix([[0], [0], [1]])\n",
    "M = sym.Matrix.hstack(ex, Rx.T@ey, (Ry@Rx).T@ez)\n",
    "\n",
    "# Invert the transformation to get a matrix that takes body-fixed angular rates to \n",
    "# roll, pitch, and yaw rates\n",
    "M_inv = sym.simplify(M.inv())\n",
    "\n",
    "# Convert the body-fixed angular rates to roll, pitch, and yaw rates\n",
    "rpy_dot = sym.simplify(M_inv@w_inB)\n",
    "print(\"Roll, pitch, and yaw rate as a function of orientation and body-fixed angular rates:\")\n",
    "sym.N(rpy_dot,3)"
   ]
  },
  {
   "cell_type": "code",
   "execution_count": 9,
   "metadata": {},
   "outputs": [
    {
     "name": "stdout",
     "output_type": "stream",
     "text": [
      "Time derivative of the angular velocities in the body-fixed frame:\n"
     ]
    },
    {
     "data": {
      "text/latex": [
       "$\\displaystyle \\left[\\begin{matrix}\\frac{Iyy \\omega_{y} \\omega_{z} - Izz \\omega_{y} \\omega_{z} + \\tau_{x}}{Ixx}\\\\\\frac{- Ixx \\omega_{x} \\omega_{z} + Izz \\omega_{x} \\omega_{z} + \\tau_{y}}{Iyy}\\\\\\frac{Ixx \\omega_{x} \\omega_{y} - Iyy \\omega_{x} \\omega_{y} + \\tau_{z}}{Izz}\\end{matrix}\\right]$"
      ],
      "text/plain": [
       "⎡Iyy⋅ω_y⋅ω_z - Izz⋅ω_y⋅ω_z + τₓ⎤\n",
       "⎢──────────────────────────────⎥\n",
       "⎢             Ixx              ⎥\n",
       "⎢                              ⎥\n",
       "⎢-Ixx⋅ωₓ⋅ω_z + Izz⋅ωₓ⋅ω_z + τ_y⎥\n",
       "⎢──────────────────────────────⎥\n",
       "⎢             Iyy              ⎥\n",
       "⎢                              ⎥\n",
       "⎢Ixx⋅ωₓ⋅ω_y - Iyy⋅ωₓ⋅ω_y + τ_z ⎥\n",
       "⎢───────────────────────────── ⎥\n",
       "⎣             Izz              ⎦"
      ]
     },
     "execution_count": 9,
     "metadata": {},
     "output_type": "execute_result"
    }
   ],
   "source": [
    "# Apply Euler's equation to get the time derivative of the angular velocities of the\n",
    "# quadrotor in the quadrotor frame\n",
    "w_inB_dot = I_inB.inv() @ (tau_inB - w_inB.cross(I_inB@w_inB))\n",
    "w_inB_dot = sym.simplify(w_inB_dot)\n",
    "print(\"Time derivative of the angular velocities in the body-fixed frame:\")\n",
    "sym.N(w_inB_dot, 3)"
   ]
  },
  {
   "cell_type": "code",
   "execution_count": 10,
   "metadata": {},
   "outputs": [],
   "source": [
    "f = sym.Matrix.vstack(xyz_dot,\n",
    "                      v_inB_dot,\n",
    "                      rpy_dot,\n",
    "                      w_inB_dot)"
   ]
  },
  {
   "cell_type": "code",
   "execution_count": 11,
   "metadata": {},
   "outputs": [
    {
     "data": {
      "text/latex": [
       "$\\displaystyle \\left[\\begin{matrix}vx \\cos{\\left(\\psi \\right)} \\cos{\\left(\\theta \\right)} + vy \\left(\\sin{\\left(\\phi \\right)} \\sin{\\left(\\theta \\right)} \\cos{\\left(\\psi \\right)} - \\sin{\\left(\\psi \\right)} \\cos{\\left(\\phi \\right)}\\right) + vz \\left(\\sin{\\left(\\phi \\right)} \\sin{\\left(\\psi \\right)} + \\sin{\\left(\\theta \\right)} \\cos{\\left(\\phi \\right)} \\cos{\\left(\\psi \\right)}\\right)\\\\vx \\sin{\\left(\\psi \\right)} \\cos{\\left(\\theta \\right)} + vy \\left(\\sin{\\left(\\phi \\right)} \\sin{\\left(\\psi \\right)} \\sin{\\left(\\theta \\right)} + \\cos{\\left(\\phi \\right)} \\cos{\\left(\\psi \\right)}\\right) - vz \\left(\\sin{\\left(\\phi \\right)} \\cos{\\left(\\psi \\right)} - \\sin{\\left(\\psi \\right)} \\sin{\\left(\\theta \\right)} \\cos{\\left(\\phi \\right)}\\right)\\\\- vx \\sin{\\left(\\theta \\right)} + vy \\sin{\\left(\\phi \\right)} \\cos{\\left(\\theta \\right)} + vz \\cos{\\left(\\phi \\right)} \\cos{\\left(\\theta \\right)}\\\\- 1.0 \\omega_{y} vz + 1.0 \\omega_{z} vy + 9.81 \\sin{\\left(\\theta \\right)}\\\\1.0 \\omega_{x} vz - 1.0 \\omega_{z} vx - 9.81 \\sin{\\left(\\phi \\right)} \\cos{\\left(\\theta \\right)}\\\\1.16 f_{z} - 1.0 \\omega_{x} vy + 1.0 \\omega_{y} vx - 9.81 \\cos{\\left(\\phi \\right)} \\cos{\\left(\\theta \\right)}\\\\\\omega_{x} + \\omega_{y} \\sin{\\left(\\phi \\right)} \\tan{\\left(\\theta \\right)} + \\omega_{z} \\cos{\\left(\\phi \\right)} \\tan{\\left(\\theta \\right)}\\\\\\omega_{y} \\cos{\\left(\\phi \\right)} - \\omega_{z} \\sin{\\left(\\phi \\right)}\\\\\\frac{\\omega_{y} \\sin{\\left(\\phi \\right)} + \\omega_{z} \\cos{\\left(\\phi \\right)}}{\\cos{\\left(\\theta \\right)}}\\\\\\frac{Iyy \\omega_{y} \\omega_{z} - Izz \\omega_{y} \\omega_{z} + \\tau_{x}}{Ixx}\\\\\\frac{- Ixx \\omega_{x} \\omega_{z} + Izz \\omega_{x} \\omega_{z} + \\tau_{y}}{Iyy}\\\\\\frac{Ixx \\omega_{x} \\omega_{y} - Iyy \\omega_{x} \\omega_{y} + \\tau_{z}}{Izz}\\end{matrix}\\right]$"
      ],
      "text/plain": [
       "⎡vx⋅cos(ψ)⋅cos(θ) + vy⋅(sin(φ)⋅sin(θ)⋅cos(ψ) - sin(ψ)⋅cos(φ)) + vz⋅(sin(φ)⋅sin\n",
       "⎢                                                                             \n",
       "⎢vx⋅sin(ψ)⋅cos(θ) + vy⋅(sin(φ)⋅sin(ψ)⋅sin(θ) + cos(φ)⋅cos(ψ)) - vz⋅(sin(φ)⋅cos\n",
       "⎢                                                                             \n",
       "⎢                            -vx⋅sin(θ) + vy⋅sin(φ)⋅cos(θ) + vz⋅cos(φ)⋅cos(θ) \n",
       "⎢                                                                             \n",
       "⎢                                   -ω_y⋅vz + 1.0⋅ω_z⋅vy + 9.81⋅sin(θ)        \n",
       "⎢                                                                             \n",
       "⎢                                1.0⋅ωₓ⋅vz - ω_z⋅vx - 9.81⋅sin(φ)⋅cos(θ)      \n",
       "⎢                                                                             \n",
       "⎢                           1.16⋅f_z - ωₓ⋅vy + 1.0⋅ω_y⋅vx - 9.81⋅cos(φ)⋅cos(θ)\n",
       "⎢                                                                             \n",
       "⎢                               ωₓ + ω_y⋅sin(φ)⋅tan(θ) + ω_z⋅cos(φ)⋅tan(θ)    \n",
       "⎢                                                                             \n",
       "⎢                                        ω_y⋅cos(φ) - ω_z⋅sin(φ)              \n",
       "⎢                                                                             \n",
       "⎢                                        ω_y⋅sin(φ) + ω_z⋅cos(φ)              \n",
       "⎢                                        ───────────────────────              \n",
       "⎢                                                 cos(θ)                      \n",
       "⎢                                                                             \n",
       "⎢                                     Iyy⋅ω_y⋅ω_z - Izz⋅ω_y⋅ω_z + τₓ          \n",
       "⎢                                     ──────────────────────────────          \n",
       "⎢                                                  Ixx                        \n",
       "⎢                                                                             \n",
       "⎢                                     -Ixx⋅ωₓ⋅ω_z + Izz⋅ωₓ⋅ω_z + τ_y          \n",
       "⎢                                     ──────────────────────────────          \n",
       "⎢                                                  Iyy                        \n",
       "⎢                                                                             \n",
       "⎢                                     Ixx⋅ωₓ⋅ω_y - Iyy⋅ωₓ⋅ω_y + τ_z           \n",
       "⎢                                     ─────────────────────────────           \n",
       "⎣                                                  Izz                        \n",
       "\n",
       "(ψ) + sin(θ)⋅cos(φ)⋅cos(ψ))⎤\n",
       "                           ⎥\n",
       "(ψ) - sin(ψ)⋅sin(θ)⋅cos(φ))⎥\n",
       "                           ⎥\n",
       "                           ⎥\n",
       "                           ⎥\n",
       "                           ⎥\n",
       "                           ⎥\n",
       "                           ⎥\n",
       "                           ⎥\n",
       "                           ⎥\n",
       "                           ⎥\n",
       "                           ⎥\n",
       "                           ⎥\n",
       "                           ⎥\n",
       "                           ⎥\n",
       "                           ⎥\n",
       "                           ⎥\n",
       "                           ⎥\n",
       "                           ⎥\n",
       "                           ⎥\n",
       "                           ⎥\n",
       "                           ⎥\n",
       "                           ⎥\n",
       "                           ⎥\n",
       "                           ⎥\n",
       "                           ⎥\n",
       "                           ⎥\n",
       "                           ⎥\n",
       "                           ⎥\n",
       "                           ⎦"
      ]
     },
     "execution_count": 11,
     "metadata": {},
     "output_type": "execute_result"
    }
   ],
   "source": [
    "sym.N(f,3)"
   ]
  },
  {
   "cell_type": "code",
   "execution_count": null,
   "metadata": {},
   "outputs": [],
   "source": []
  }
 ],
 "metadata": {
  "kernelspec": {
   "display_name": "ae352",
   "language": "python",
   "name": "python3"
  },
  "language_info": {
   "codemirror_mode": {
    "name": "ipython",
    "version": 3
   },
   "file_extension": ".py",
   "mimetype": "text/x-python",
   "name": "python",
   "nbconvert_exporter": "python",
   "pygments_lexer": "ipython3",
   "version": "3.11.9"
  }
 },
 "nbformat": 4,
 "nbformat_minor": 2
}
